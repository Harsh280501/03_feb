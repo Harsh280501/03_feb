{
 "cells": [
  {
   "cell_type": "markdown",
   "id": "4e4068ca-307c-497d-aa13-bf824f47cee5",
   "metadata": {},
   "source": [
    "# Q1 Which keyboard is used to define a function and create a function to return  a list of odd number in the range of 1 to 25"
   ]
  },
  {
   "cell_type": "code",
   "execution_count": 9,
   "id": "53464d59-6f92-414d-b660-175e6705ef51",
   "metadata": {},
   "outputs": [],
   "source": [
    "# Function is defined with help of a keyword known as \"def\""
   ]
  },
  {
   "cell_type": "code",
   "execution_count": 10,
   "id": "883732b4-8978-4329-ae9e-e83c750b2329",
   "metadata": {},
   "outputs": [],
   "source": [
    "def odd():\n",
    "    l1 = []\n",
    "    for i in range(1,26):\n",
    "       \n",
    "        if i %2 != 0 :\n",
    "        \n",
    "            l1.append(i)\n",
    "        \n",
    "    return l1"
   ]
  },
  {
   "cell_type": "code",
   "execution_count": 11,
   "id": "944cc1bc-e95c-42f8-a2d9-e8585e6b79d4",
   "metadata": {},
   "outputs": [
    {
     "data": {
      "text/plain": [
       "[1, 3, 5, 7, 9, 11, 13, 15, 17, 19, 21, 23, 25]"
      ]
     },
     "execution_count": 11,
     "metadata": {},
     "output_type": "execute_result"
    }
   ],
   "source": [
    "odd()"
   ]
  },
  {
   "cell_type": "markdown",
   "id": "dbc04bfa-27d6-4083-a2e4-eb72e806478e",
   "metadata": {},
   "source": [
    "# Q2 Why *args and **kwargs is used in some functions? Create a function each for *args and **kwargs to demonstrate their use."
   ]
  },
  {
   "cell_type": "code",
   "execution_count": 13,
   "id": "a622ab58-3061-4d47-9a0b-1c60d6933cb4",
   "metadata": {},
   "outputs": [
    {
     "data": {
      "text/plain": [
       "'\\n\\n*args = It is used to take multiple input without mentioning any varibles\\n\\n**kwargs = It is used to take dictionary as an  input\\n\\n'"
      ]
     },
     "execution_count": 13,
     "metadata": {},
     "output_type": "execute_result"
    }
   ],
   "source": [
    "\"\"\"\n",
    "\n",
    "*args = It is used to take multiple input without mentioning any varibles\n",
    "\n",
    "**kwargs = It is used to take dictionary as an  input\n",
    "\n",
    "\"\"\""
   ]
  },
  {
   "cell_type": "code",
   "execution_count": 16,
   "id": "42d0623a-dceb-4b3c-8d00-3a18224748de",
   "metadata": {},
   "outputs": [
    {
     "data": {
      "text/plain": [
       "(1, 2, 3, 4, 'adf', [1, 4, 2, 1])"
      ]
     },
     "execution_count": 16,
     "metadata": {},
     "output_type": "execute_result"
    }
   ],
   "source": [
    "def fun(*args):\n",
    "\n",
    "    return args\n",
    "fun(1,2,3,4,\"adf\",[1,4,2,1])"
   ]
  },
  {
   "cell_type": "code",
   "execution_count": 19,
   "id": "04a61fc9-3cd9-47c9-adb1-020a4491cc00",
   "metadata": {},
   "outputs": [
    {
     "data": {
      "text/plain": [
       "{'a': 1, 'b': [12, 4, 34, 1]}"
      ]
     },
     "execution_count": 19,
     "metadata": {},
     "output_type": "execute_result"
    }
   ],
   "source": [
    "def fun_1(**kwargs):\n",
    "    \n",
    "    return kwargs\n",
    "\n",
    "fun_1(a= 1,b =[12,4,34,1])"
   ]
  },
  {
   "cell_type": "markdown",
   "id": "833545c5-967d-4496-8e89-ed898e9b8595",
   "metadata": {},
   "source": [
    "# Q3 What is an iterator in python? Name the method used to initialise the iterator object and the method used for iteration. Use these methods to print the first five elements of the given list [2, 4, 6, 8, 10, 12, 14,16, 18, 20]."
   ]
  },
  {
   "cell_type": "raw",
   "id": "461f53b9-d9d2-44ee-80e0-c9375dbf11cf",
   "metadata": {},
   "source": [
    "# Iterator in Python is an object that is used to iterate over iterable objects like lists, tuples, dicts, and sets. The iterator object is initialized using the iter() method. It uses the next() method for iteration.\n",
    "\n",
    "\n",
    "1)__iter__(): The iter() method is called for the initialization of an iterator. This returns an iterator object\n",
    "2)__next__(): The next method returns the next value for the iterable. When we use a for loop to traverse any iterable object, internally it uses the iter() method to get an iterator object, which further uses the next() method to iterate over. This method raises a StopIteration to signal the end of the iteration."
   ]
  },
  {
   "cell_type": "markdown",
   "id": "e157e08b-93d5-4141-9b40-a04097fd14f5",
   "metadata": {},
   "source": [
    "# Q4 What is a generator function in python? Why yield keyword is used? Give an example of a generator function."
   ]
  },
  {
   "cell_type": "code",
   "execution_count": 23,
   "id": "6a440b81-f1b4-45f6-a1a3-ff152eb6bdeb",
   "metadata": {},
   "outputs": [],
   "source": [
    "# A generator-function is defined like a normal function, but whenever it needs to generate a value, it does so with the yield keyword rather than return.\n",
    "# The yield statement suspends a function’s execution and sends a value back to the caller, but retains enough state to enable the function to resume where it left off."
   ]
  },
  {
   "cell_type": "code",
   "execution_count": 34,
   "id": "2c6dd615-377d-44b3-9806-1b52d675f27d",
   "metadata": {},
   "outputs": [
    {
     "name": "stdout",
     "output_type": "stream",
     "text": [
      "1\n",
      "4\n",
      "9\n",
      "16\n",
      "25\n",
      "36\n",
      "49\n",
      "64\n",
      "81\n",
      "100\n"
     ]
    }
   ],
   "source": [
    "def nextSquare():\n",
    "\ti = 1\n",
    "\n",
    "\n",
    "\twhile True:\n",
    "\t\tyield i*i\n",
    "\t\ti += 1 \n",
    "\n",
    "\n",
    "\n",
    "for num in nextSquare():\n",
    "\tif num > 100:\n",
    "\t\tbreak\n",
    "\tprint(num)\n"
   ]
  },
  {
   "cell_type": "code",
   "execution_count": null,
   "id": "9ca573ab-89c8-4ad0-a51f-a2e47c412bef",
   "metadata": {},
   "outputs": [],
   "source": [
    "# Q5 Create a generator function for prime numbers less than 1000. Use the next() method to print the first 20 prime numbers."
   ]
  },
  {
   "cell_type": "code",
   "execution_count": 58,
   "id": "1717015d-0bb4-4609-9af1-585ad5fd778f",
   "metadata": {},
   "outputs": [
    {
     "name": "stdout",
     "output_type": "stream",
     "text": [
      "[2, 3, 5, 7, 11, 13, 17, 19, 23, 29, 31, 37, 41, 43, 47, 53, 59, 61, 67, 71, 73, 79, 83, 89, 97]\n"
     ]
    }
   ],
   "source": [
    "def genprimes(limit): \n",
    "                      \n",
    "    D = {}            \n",
    "    q = 2\n",
    "\n",
    "    while q <= limit:\n",
    "        if q not in D:\n",
    "            yield q\n",
    "            D[q * q] = [q]\n",
    "        else:\n",
    "            for p in D[q]:\n",
    "                D.setdefault(p + q, []).append(p)\n",
    "            del D[q]\n",
    "        q += 1\n",
    "\n",
    "p = genprimes(100)\n",
    "prms = [i for i in p]\n",
    "\n",
    "print(prms)\n",
    "\n"
   ]
  },
  {
   "cell_type": "markdown",
   "id": "30ba82f9-b8da-4912-b3d3-e8d9ada74e0e",
   "metadata": {},
   "source": [
    "# Q6 Write a python program to print the first 10 Fibonacci numbers using a while loop."
   ]
  },
  {
   "cell_type": "code",
   "execution_count": 49,
   "id": "b180350b-4dc1-4ad8-a84f-70d746dd152e",
   "metadata": {},
   "outputs": [
    {
     "name": "stdout",
     "output_type": "stream",
     "text": [
      "1\n",
      "1\n",
      "2\n",
      "3\n",
      "5\n",
      "8\n",
      "13\n",
      "21\n",
      "34\n",
      "55\n",
      "89\n",
      "144\n"
     ]
    }
   ],
   "source": [
    "a = 1\n",
    "b = 1\n",
    "print(a)\n",
    "print(b)\n",
    "num = 1\n",
    "while num<=10:\n",
    "     \n",
    "    c = a + b\n",
    "    a= b\n",
    "    b = c\n",
    "    num = num + 1\n",
    "    print(c)"
   ]
  },
  {
   "cell_type": "markdown",
   "id": "585223f2-03c9-4608-8992-8b7e2b649250",
   "metadata": {},
   "source": [
    "# Q7 Write a List Comprehension to iterate through the given string: ‘pwskills’. Expected output: ['p', 'w', 's', 'k', 'i', 'l', 'l', 's']"
   ]
  },
  {
   "cell_type": "code",
   "execution_count": 43,
   "id": "dae9509c-9d2d-4665-bf4b-606cf4676f3c",
   "metadata": {},
   "outputs": [
    {
     "data": {
      "text/plain": [
       "['p', 'w', 's', 'k', 'i', 'l', 'l', 's']"
      ]
     },
     "execution_count": 43,
     "metadata": {},
     "output_type": "execute_result"
    }
   ],
   "source": [
    "string = \"pwskills\"\n",
    "\n",
    "[i for i in string]"
   ]
  },
  {
   "cell_type": "markdown",
   "id": "a4fe2c45-8dac-4eab-923f-7b5de86cc8f5",
   "metadata": {},
   "source": [
    "# Q8 Write a python program to check whether a given number is Palindrome or not using a while loop."
   ]
  },
  {
   "cell_type": "code",
   "execution_count": 54,
   "id": "320af56b-0652-44d1-87d4-026ab7eceae8",
   "metadata": {},
   "outputs": [
    {
     "name": "stdin",
     "output_type": "stream",
     "text": [
      "Enter the number 5445\n"
     ]
    },
    {
     "name": "stdout",
     "output_type": "stream",
     "text": [
      "The number is palindrome\n"
     ]
    }
   ],
   "source": [
    "num = input(\"Enter the number\")\n",
    "palindrome = \"\"\n",
    "length = len(num)\n",
    "while length > 0 :\n",
    "    \n",
    "    palindrome = palindrome + num[length-1]\n",
    "    length = length - 1\n",
    "        \n",
    "        \n",
    "if palindrome == num :\n",
    "    \n",
    "    print(\"The number is palindrome\")\n",
    "else :\n",
    "    \n",
    "    print(\"The number is not palindrome\")\n",
    "        \n",
    "    \n",
    "    \n",
    "    \n",
    "\n"
   ]
  },
  {
   "cell_type": "markdown",
   "id": "dea52a9e-aab7-47e0-8834-dd35e3b6565c",
   "metadata": {},
   "source": [
    "# Q9 Write a code to print odd numbers from 1 to 100 using list comprehension."
   ]
  },
  {
   "cell_type": "code",
   "execution_count": 56,
   "id": "d7c8aa5d-3bd8-4f77-a0e3-d6f26d6700f8",
   "metadata": {},
   "outputs": [
    {
     "data": {
      "text/plain": [
       "[1,\n",
       " 3,\n",
       " 5,\n",
       " 7,\n",
       " 9,\n",
       " 11,\n",
       " 13,\n",
       " 15,\n",
       " 17,\n",
       " 19,\n",
       " 21,\n",
       " 23,\n",
       " 25,\n",
       " 27,\n",
       " 29,\n",
       " 31,\n",
       " 33,\n",
       " 35,\n",
       " 37,\n",
       " 39,\n",
       " 41,\n",
       " 43,\n",
       " 45,\n",
       " 47,\n",
       " 49,\n",
       " 51,\n",
       " 53,\n",
       " 55,\n",
       " 57,\n",
       " 59,\n",
       " 61,\n",
       " 63,\n",
       " 65,\n",
       " 67,\n",
       " 69,\n",
       " 71,\n",
       " 73,\n",
       " 75,\n",
       " 77,\n",
       " 79,\n",
       " 81,\n",
       " 83,\n",
       " 85,\n",
       " 87,\n",
       " 89,\n",
       " 91,\n",
       " 93,\n",
       " 95,\n",
       " 97,\n",
       " 99]"
      ]
     },
     "execution_count": 56,
     "metadata": {},
     "output_type": "execute_result"
    }
   ],
   "source": [
    "[i for i in range(1,101) if i%2 !=0]"
   ]
  },
  {
   "cell_type": "code",
   "execution_count": null,
   "id": "43d2e300-2c70-4499-920a-b2ece40bfaf0",
   "metadata": {},
   "outputs": [],
   "source": []
  }
 ],
 "metadata": {
  "kernelspec": {
   "display_name": "Python 3 (ipykernel)",
   "language": "python",
   "name": "python3"
  },
  "language_info": {
   "codemirror_mode": {
    "name": "ipython",
    "version": 3
   },
   "file_extension": ".py",
   "mimetype": "text/x-python",
   "name": "python",
   "nbconvert_exporter": "python",
   "pygments_lexer": "ipython3",
   "version": "3.10.8"
  }
 },
 "nbformat": 4,
 "nbformat_minor": 5
}
